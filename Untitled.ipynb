{
 "cells": [
  {
   "cell_type": "code",
   "execution_count": 1,
   "id": "a8bec5ec",
   "metadata": {},
   "outputs": [
    {
     "data": {
      "text/latex": [
       "$\\displaystyle \\frac{5 x^{3}}{2} + \\frac{249 x^{2}}{40} - \\frac{5 x}{2} - \\frac{249}{40}$"
      ],
      "text/plain": [
       "5*x**3/2 + 249*x**2/40 - 5*x/2 - 249/40"
      ]
     },
     "execution_count": 1,
     "metadata": {},
     "output_type": "execute_result"
    }
   ],
   "source": [
    "from fractions import Fraction\n",
    "from sympy import *\n",
    "\n",
    "a, b = Fraction(25, 10), Fraction(249, 100)\n",
    "# a, b = Fraction(1), Fraction(-3)\n",
    "\n",
    "\n",
    "def f(x: int | float | Fraction | Symbol) -> int | float | Fraction:\n",
    "    global a, b\n",
    "\n",
    "    return a * x ** 3 + b * a * x ** 2 + -a * x + -b * a\n",
    "\n",
    "\n",
    "string = f(symbols('x', real=True))\n",
    "string\n"
   ]
  },
  {
   "cell_type": "code",
   "execution_count": 2,
   "id": "9204bb14",
   "metadata": {},
   "outputs": [
    {
     "data": {
      "text/plain": [
       "[-249/100, -1, 1]"
      ]
     },
     "execution_count": 2,
     "metadata": {},
     "output_type": "execute_result"
    }
   ],
   "source": [
    "solve(string)"
   ]
  },
  {
   "cell_type": "code",
   "execution_count": 3,
   "id": "cf99ee89",
   "metadata": {},
   "outputs": [],
   "source": [
    "interval = [Fraction(-3, 2), Fraction(-5, 10)]"
   ]
  }
 ],
 "metadata": {
  "kernelspec": {
   "display_name": "Python 3 (ipykernel)",
   "language": "python",
   "name": "python3"
  },
  "language_info": {
   "codemirror_mode": {
    "name": "ipython",
    "version": 3
   },
   "file_extension": ".py",
   "mimetype": "text/x-python",
   "name": "python",
   "nbconvert_exporter": "python",
   "pygments_lexer": "ipython3",
   "version": "3.10.7"
  }
 },
 "nbformat": 4,
 "nbformat_minor": 5
}
